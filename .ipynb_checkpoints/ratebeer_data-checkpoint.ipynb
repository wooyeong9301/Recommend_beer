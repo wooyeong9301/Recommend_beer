{
 "cells": [
  {
   "cell_type": "code",
   "execution_count": 1,
   "id": "ec58810d",
   "metadata": {},
   "outputs": [],
   "source": [
    "import pandas as pd\n",
    "import numpy as np\n",
    "import time\n",
    "import re\n",
    "import requests\n",
    "import urllib\n",
    "\n",
    "from tqdm.auto import tqdm\n",
    "from selenium import webdriver\n",
    "from selenium.webdriver.chrome.options import Options\n",
    "from bs4 import BeautifulSoup"
   ]
  },
  {
   "cell_type": "code",
   "execution_count": 3,
   "id": "0fe60518",
   "metadata": {},
   "outputs": [],
   "source": [
    "# 데이터프레임으로 저장\n",
    "beer_list = pd.DataFrame(data=beer_list, columns=['검색이름'])"
   ]
  },
  {
   "cell_type": "code",
   "execution_count": 90,
   "id": "3f065b95",
   "metadata": {},
   "outputs": [
    {
     "data": {
      "text/plain": [
       "'fitz super clear'"
      ]
     },
     "execution_count": 90,
     "metadata": {},
     "output_type": "execute_result"
    }
   ],
   "source": [
    "beer_list['검색이름'].iloc[1]"
   ]
  },
  {
   "cell_type": "code",
   "execution_count": 44,
   "id": "500bc3a0",
   "metadata": {
    "scrolled": true
   },
   "outputs": [],
   "source": [
    "def get_beer_review(beer, df):\n",
    "    from tqdm.auto import tqdm\n",
    "    import warnings\n",
    "    warnings.filterwarnings(action='ignore')\n",
    "    \n",
    "    driver = webdriver.Chrome(executable_path='../../chromedriver_linux64/chromedriver')\n",
    "    url = 'https://ratebeer.com/'\n",
    "\n",
    "    url_search = urllib.parse.urljoin(url, 'search?q={}&tab=beer')\n",
    "    driver.get(url_search.format(beer))\n",
    "    time.sleep(5)\n",
    "    \n",
    "    dom_search = BeautifulSoup(driver.page_source, 'html.parser')\n",
    "    beer_link = dom_search.find(class_='MuiTypography-root Text___StyledTypographyTypeless-bukSfn pzIrn colorized__WrappedComponent-hrwcZr bRPQdN Anchor___StyledText2-jwDTwU jYqICB px-4 py-4 fj-s MuiTypography-body2', href=True)\n",
    "\n",
    "    url_beer = urllib.parse.urljoin(url, beer_link['href'])\n",
    "    driver.get(url_beer)\n",
    "    time.sleep(3)\n",
    "    dom_beer = BeautifulSoup(driver.page_source, 'html.parser')\n",
    "    beer_name = dom_beer.find(class_='MuiTypography-root Text___StyledTypographyTypeless-bukSfn pzIrn text-500 colorized__WrappedComponent-hrwcZr hwjOn mt-3 MuiTypography-h4').text\n",
    "\n",
    "    er_cnt = 0\n",
    "    review_cnt = ''\n",
    "    \n",
    "    while 1:\n",
    "        try:\n",
    "#             print('while문 시작')\n",
    "            string = dom_beer.find(class_='MuiTypography-root Text___StyledTypographyTypeless-bukSfn pzIrn text-500 colorized__WrappedComponent-hrwcZr hwjOn MuiTypography-h6').text\n",
    "            \n",
    "            for _ in string:\n",
    "                if _.isnumeric():\n",
    "                    review_cnt += _\n",
    "                else: continue\n",
    "            if len(review_cnt) >= 1:\n",
    "                review_cnt = int(review_cnt)\n",
    "            else:\n",
    "                return df\n",
    "            \n",
    "        except:\n",
    "            print('오류 발생')\n",
    "            er_cnt += 1\n",
    "            if er_cnt == 5:\n",
    "                print('다음 맥주로 넘어갑니다...')\n",
    "                break\n",
    "                \n",
    "    if review_cnt%15 == 0:\n",
    "        page_num = review_cnt//15\n",
    "    else:\n",
    "        page_num = (review_cnt//15) + 1\n",
    "\n",
    "\n",
    "#     elif review_cnt%15 == 0:\n",
    "#         page_num = review_cnt//15\n",
    "#     else:\n",
    "#         page_num = (review_cnt//15) + 1\n",
    "#     print(review_cnt)\n",
    "    \n",
    "    score_breakdown = driver.find_element_by_xpath('//*[@id=\"root\"]/div[2]/div[2]/div/div/div/div[2]/div[4]/div/div[2]/div[1]/div[2]/span[1]')\n",
    "    driver.execute_script('arguments[0].click();', score_breakdown)\n",
    "    time.sleep(1)\n",
    "\n",
    "    urf_list = []\n",
    "    for i in tqdm(range(page_num), leave=True):\n",
    "#         print('{}번째 페이지...'.format(i+1))\n",
    "        time.sleep(0.5)\n",
    "        review_list = driver.find_elements_by_css_selector('.px-4.fj-s.f-wrap')\n",
    "\n",
    "        for r in review_list:\n",
    "            user_link = r.find_element_by_xpath('./section[1]/div[2]/a').get_attribute('href')\n",
    "            user_id = user_link.split('/')[4]\n",
    "            \n",
    "            rating = r.find_element_by_class_name('fa-c')\n",
    "            rating = rating.find_element_by_xpath('./div[2]/span[1]').text\n",
    "\n",
    "            features = r.find_element_by_xpath('./section[2]/div[1]/div[2]').text\n",
    "#             print(user_id, rating)\n",
    "            urf_list.append([beer, user_id, beer_name, rating, features])\n",
    "            \n",
    "        # 다음 리뷰 페이지\n",
    "        try:\n",
    "            next_btn = driver.find_element_by_xpath('//button[@title=\"Next page\"]')\n",
    "            driver.execute_script('arguments[0].click();', next_btn)\n",
    "        except:\n",
    "            print('마지막 페이지입니다..')\n",
    "            \n",
    "    tmp = pd.DataFrame(urf_list, columns=['검색이름', '유저', '맥주이름', '평점', '특성'])\n",
    "        \n",
    "    if review_cnt != len(tmp):\n",
    "        print('{} 리뷰 수가 안맞는데요....'.format(beer))\n",
    "    print('리뷰 수 :', review_cnt, '수집한 리뷰 :', len(tmp))\n",
    "    \n",
    "    df = pd.concat([df, tmp])\n",
    "    \n",
    "    driver.quit()\n",
    "    return df"
   ]
  },
  {
   "cell_type": "code",
   "execution_count": 39,
   "id": "c3180fb1",
   "metadata": {
    "scrolled": true
   },
   "outputs": [
    {
     "data": {
      "application/vnd.jupyter.widget-view+json": {
       "model_id": "c44f223c780445ea9c86b3101dd1cf67",
       "version_major": 2,
       "version_minor": 0
      },
      "text/plain": [
       "  0%|          | 0/47 [00:00<?, ?it/s]"
      ]
     },
     "metadata": {},
     "output_type": "display_data"
    },
    {
     "name": "stdout",
     "output_type": "stream",
     "text": [
      "kloud\n",
      "오류 발생\n",
      "오류 발생\n",
      "오류 발생\n",
      "오류 발생\n",
      "오류 발생\n",
      "다음 맥주로 넘어갑니다...\n"
     ]
    },
    {
     "data": {
      "application/vnd.jupyter.widget-view+json": {
       "model_id": "a53c77936df84b1fa60e6779754d8213",
       "version_major": 2,
       "version_minor": 0
      },
      "text/plain": [
       "  0%|          | 0/8 [00:00<?, ?it/s]"
      ]
     },
     "metadata": {},
     "output_type": "display_data"
    },
    {
     "name": "stdout",
     "output_type": "stream",
     "text": [
      "리뷰 수 : 108 수집한 리뷰 : 108\n",
      "fitz super clear\n",
      "오류 발생\n",
      "오류 발생\n",
      "오류 발생\n",
      "오류 발생\n",
      "오류 발생\n",
      "다음 맥주로 넘어갑니다...\n"
     ]
    },
    {
     "data": {
      "application/vnd.jupyter.widget-view+json": {
       "model_id": "fe85784188a449afb55764ffa697e377",
       "version_major": 2,
       "version_minor": 0
      },
      "text/plain": [
       "  0%|          | 0/2 [00:00<?, ?it/s]"
      ]
     },
     "metadata": {},
     "output_type": "display_data"
    },
    {
     "name": "stdout",
     "output_type": "stream",
     "text": [
      "리뷰 수 : 27 수집한 리뷰 : 27\n",
      "Asahi super dry\n",
      "오류 발생\n",
      "오류 발생\n",
      "오류 발생\n",
      "오류 발생\n",
      "오류 발생\n",
      "다음 맥주로 넘어갑니다...\n"
     ]
    },
    {
     "data": {
      "application/vnd.jupyter.widget-view+json": {
       "model_id": "04ee45b50b7a4e70b6d216c51f79b8c7",
       "version_major": 2,
       "version_minor": 0
      },
      "text/plain": [
       "  0%|          | 0/137 [00:00<?, ?it/s]"
      ]
     },
     "metadata": {},
     "output_type": "display_data"
    },
    {
     "name": "stdout",
     "output_type": "stream",
     "text": [
      "리뷰 수 : 2051 수집한 리뷰 : 2051\n",
      "Tsingtao\n",
      "오류 발생\n",
      "오류 발생\n",
      "오류 발생\n",
      "오류 발생\n",
      "오류 발생\n",
      "다음 맥주로 넘어갑니다...\n"
     ]
    },
    {
     "data": {
      "application/vnd.jupyter.widget-view+json": {
       "model_id": "f4272c980e974602a8c23ef44d03ec6a",
       "version_major": 2,
       "version_minor": 0
      },
      "text/plain": [
       "  0%|          | 0/151 [00:00<?, ?it/s]"
      ]
     },
     "metadata": {},
     "output_type": "display_data"
    },
    {
     "name": "stdout",
     "output_type": "stream",
     "text": [
      "리뷰 수 : 2265 수집한 리뷰 : 2265\n",
      "Heineken\n",
      "오류 발생\n",
      "오류 발생\n",
      "오류 발생\n",
      "오류 발생\n",
      "오류 발생\n",
      "다음 맥주로 넘어갑니다...\n"
     ]
    },
    {
     "data": {
      "application/vnd.jupyter.widget-view+json": {
       "model_id": "27d0bdb8bb31491b86802ca845569b65",
       "version_major": 2,
       "version_minor": 0
      },
      "text/plain": [
       "  0%|          | 0/282 [00:00<?, ?it/s]"
      ]
     },
     "metadata": {},
     "output_type": "display_data"
    },
    {
     "name": "stdout",
     "output_type": "stream",
     "text": [
      "리뷰 수 : 4230 수집한 리뷰 : 4230\n",
      "Kirin ichiban\n",
      "오류 발생\n",
      "오류 발생\n",
      "오류 발생\n",
      "오류 발생\n",
      "오류 발생\n",
      "다음 맥주로 넘어갑니다...\n"
     ]
    },
    {
     "data": {
      "application/vnd.jupyter.widget-view+json": {
       "model_id": "d8956beedc01410ea0522c4344fe9a91",
       "version_major": 2,
       "version_minor": 0
      },
      "text/plain": [
       "  0%|          | 0/133 [00:00<?, ?it/s]"
      ]
     },
     "metadata": {},
     "output_type": "display_data"
    },
    {
     "name": "stdout",
     "output_type": "stream",
     "text": [
      "리뷰 수 : 1989 수집한 리뷰 : 1989\n",
      "Sapporo Premium Beer / Draft Beer\n",
      "오류 발생\n",
      "오류 발생\n",
      "오류 발생\n",
      "오류 발생\n",
      "오류 발생\n",
      "다음 맥주로 넘어갑니다...\n"
     ]
    },
    {
     "data": {
      "application/vnd.jupyter.widget-view+json": {
       "model_id": "324626c131d840328b3d35dab663893d",
       "version_major": 2,
       "version_minor": 0
      },
      "text/plain": [
       "  0%|          | 0/128 [00:00<?, ?it/s]"
      ]
     },
     "metadata": {},
     "output_type": "display_data"
    },
    {
     "name": "stdout",
     "output_type": "stream",
     "text": [
      "리뷰 수 : 1915 수집한 리뷰 : 1915\n",
      "stella artois\n",
      "오류 발생\n",
      "오류 발생\n",
      "오류 발생\n",
      "오류 발생\n",
      "오류 발생\n",
      "다음 맥주로 넘어갑니다...\n"
     ]
    },
    {
     "data": {
      "application/vnd.jupyter.widget-view+json": {
       "model_id": "351da62fe82c4da5acdf7783d62a02b2",
       "version_major": 2,
       "version_minor": 0
      },
      "text/plain": [
       "  0%|          | 0/243 [00:00<?, ?it/s]"
      ]
     },
     "metadata": {},
     "output_type": "display_data"
    },
    {
     "name": "stdout",
     "output_type": "stream",
     "text": [
      "리뷰 수 : 3644 수집한 리뷰 : 3644\n",
      "guinness braught\n",
      "오류 발생\n",
      "오류 발생\n",
      "오류 발생\n",
      "오류 발생\n",
      "오류 발생\n",
      "다음 맥주로 넘어갑니다...\n"
     ]
    },
    {
     "data": {
      "application/vnd.jupyter.widget-view+json": {
       "model_id": "d07cb676fbc441baa0a84bfd07c06670",
       "version_major": 2,
       "version_minor": 0
      },
      "text/plain": [
       "  0%|          | 0/386 [00:00<?, ?it/s]"
      ]
     },
     "metadata": {},
     "output_type": "display_data"
    },
    {
     "name": "stdout",
     "output_type": "stream",
     "text": [
      "리뷰 수 : 5778 수집한 리뷰 : 5778\n",
      "1664 Blanc\n",
      "오류 발생\n",
      "오류 발생\n",
      "오류 발생\n",
      "오류 발생\n",
      "오류 발생\n",
      "다음 맥주로 넘어갑니다...\n"
     ]
    },
    {
     "data": {
      "application/vnd.jupyter.widget-view+json": {
       "model_id": "bf8c9518e30e452e9301924727097636",
       "version_major": 2,
       "version_minor": 0
      },
      "text/plain": [
       "  0%|          | 0/68 [00:00<?, ?it/s]"
      ]
     },
     "metadata": {},
     "output_type": "display_data"
    },
    {
     "name": "stdout",
     "output_type": "stream",
     "text": [
      "리뷰 수 : 1009 수집한 리뷰 : 1009\n",
      "pilsner urquell\n",
      "오류 발생\n",
      "오류 발생\n",
      "오류 발생\n",
      "오류 발생\n",
      "오류 발생\n",
      "다음 맥주로 넘어갑니다...\n"
     ]
    },
    {
     "data": {
      "application/vnd.jupyter.widget-view+json": {
       "model_id": "3e75f8e82b5d47c29d88e86d26ac2474",
       "version_major": 2,
       "version_minor": 0
      },
      "text/plain": [
       "  0%|          | 0/291 [00:00<?, ?it/s]"
      ]
     },
     "metadata": {},
     "output_type": "display_data"
    },
    {
     "name": "stdout",
     "output_type": "stream",
     "text": [
      "리뷰 수 : 4356 수집한 리뷰 : 4356\n",
      "San Miguel\n",
      "오류 발생\n",
      "오류 발생\n",
      "오류 발생\n",
      "오류 발생\n",
      "오류 발생\n",
      "다음 맥주로 넘어갑니다...\n"
     ]
    },
    {
     "data": {
      "application/vnd.jupyter.widget-view+json": {
       "model_id": "7c25bee6bb704946b7272e1621da381c",
       "version_major": 2,
       "version_minor": 0
      },
      "text/plain": [
       "  0%|          | 0/14 [00:00<?, ?it/s]"
      ]
     },
     "metadata": {},
     "output_type": "display_data"
    },
    {
     "name": "stdout",
     "output_type": "stream",
     "text": [
      "리뷰 수 : 196 수집한 리뷰 : 196\n",
      "OB premier pilsner\n",
      "오류 발생\n",
      "오류 발생\n",
      "오류 발생\n",
      "오류 발생\n",
      "오류 발생\n",
      "다음 맥주로 넘어갑니다...\n"
     ]
    },
    {
     "data": {
      "application/vnd.jupyter.widget-view+json": {
       "model_id": "3fdf5375134f43dfae27dd3035646522",
       "version_major": 2,
       "version_minor": 0
      },
      "text/plain": [
       "  0%|          | 0/4 [00:00<?, ?it/s]"
      ]
     },
     "metadata": {},
     "output_type": "display_data"
    },
    {
     "name": "stdout",
     "output_type": "stream",
     "text": [
      "리뷰 수 : 58 수집한 리뷰 : 58\n",
      "cass fresh\n",
      "오류 발생\n",
      "오류 발생\n",
      "오류 발생\n",
      "오류 발생\n",
      "오류 발생\n",
      "다음 맥주로 넘어갑니다...\n"
     ]
    },
    {
     "data": {
      "application/vnd.jupyter.widget-view+json": {
       "model_id": "e94ba2c8592c4ec3829b01fa3227e59f",
       "version_major": 2,
       "version_minor": 0
      },
      "text/plain": [
       "  0%|          | 0/21 [00:00<?, ?it/s]"
      ]
     },
     "metadata": {},
     "output_type": "display_data"
    },
    {
     "name": "stdout",
     "output_type": "stream",
     "text": [
      "리뷰 수 : 305 수집한 리뷰 : 305\n",
      "stout\n",
      "dry finish\n",
      "오류 발생\n",
      "오류 발생\n",
      "오류 발생\n",
      "오류 발생\n",
      "오류 발생\n",
      "다음 맥주로 넘어갑니다...\n"
     ]
    },
    {
     "data": {
      "application/vnd.jupyter.widget-view+json": {
       "model_id": "3124ccd304724146832ba9195746021f",
       "version_major": 2,
       "version_minor": 0
      },
      "text/plain": [
       "  0%|          | 0/4 [00:00<?, ?it/s]"
      ]
     },
     "metadata": {},
     "output_type": "display_data"
    },
    {
     "name": "stdout",
     "output_type": "stream",
     "text": [
      "리뷰 수 : 59 수집한 리뷰 : 59\n",
      "max hite\n",
      "오류 발생\n",
      "오류 발생\n",
      "오류 발생\n",
      "오류 발생\n",
      "오류 발생\n",
      "다음 맥주로 넘어갑니다...\n"
     ]
    },
    {
     "data": {
      "application/vnd.jupyter.widget-view+json": {
       "model_id": "ea584b1c25064268848cf326b5608e81",
       "version_major": 2,
       "version_minor": 0
      },
      "text/plain": [
       "  0%|          | 0/8 [00:00<?, ?it/s]"
      ]
     },
     "metadata": {},
     "output_type": "display_data"
    },
    {
     "name": "stdout",
     "output_type": "stream",
     "text": [
      "리뷰 수 : 116 수집한 리뷰 : 116\n",
      "hite extra cold\n",
      "오류 발생\n",
      "오류 발생\n",
      "오류 발생\n",
      "오류 발생\n",
      "오류 발생\n",
      "다음 맥주로 넘어갑니다...\n"
     ]
    },
    {
     "data": {
      "application/vnd.jupyter.widget-view+json": {
       "model_id": "d3eeb08a1e8d4119a3442726ada2130d",
       "version_major": 2,
       "version_minor": 0
      },
      "text/plain": [
       "  0%|          | 0/4 [00:00<?, ?it/s]"
      ]
     },
     "metadata": {},
     "output_type": "display_data"
    },
    {
     "name": "stdout",
     "output_type": "stream",
     "text": [
      "리뷰 수 : 46 수집한 리뷰 : 46\n",
      "victoria bitter\n",
      "오류 발생\n",
      "오류 발생\n",
      "오류 발생\n",
      "오류 발생\n",
      "오류 발생\n",
      "다음 맥주로 넘어갑니다...\n"
     ]
    },
    {
     "data": {
      "application/vnd.jupyter.widget-view+json": {
       "model_id": "ae535af501744abe8bd77a464a947e4f",
       "version_major": 2,
       "version_minor": 0
      },
      "text/plain": [
       "  0%|          | 0/55 [00:00<?, ?it/s]"
      ]
     },
     "metadata": {},
     "output_type": "display_data"
    },
    {
     "name": "stdout",
     "output_type": "stream",
     "text": [
      "리뷰 수 : 812 수집한 리뷰 : 812\n",
      "BINTANG pilsner\n",
      "오류 발생\n",
      "오류 발생\n",
      "오류 발생\n",
      "오류 발생\n",
      "오류 발생\n",
      "다음 맥주로 넘어갑니다...\n"
     ]
    },
    {
     "data": {
      "application/vnd.jupyter.widget-view+json": {
       "model_id": "25a41e86b14f4562a935d6579dff1f0a",
       "version_major": 2,
       "version_minor": 0
      },
      "text/plain": [
       "  0%|          | 0/37 [00:00<?, ?it/s]"
      ]
     },
     "metadata": {},
     "output_type": "display_data"
    },
    {
     "name": "stdout",
     "output_type": "stream",
     "text": [
      "리뷰 수 : 553 수집한 리뷰 : 553\n",
      "Miller Genuine Draft\n",
      "오류 발생\n",
      "오류 발생\n",
      "오류 발생\n",
      "오류 발생\n",
      "오류 발생\n",
      "다음 맥주로 넘어갑니다...\n"
     ]
    },
    {
     "data": {
      "application/vnd.jupyter.widget-view+json": {
       "model_id": "24aaffaec17f475bb48458b1d914376e",
       "version_major": 2,
       "version_minor": 0
      },
      "text/plain": [
       "  0%|          | 0/161 [00:00<?, ?it/s]"
      ]
     },
     "metadata": {},
     "output_type": "display_data"
    },
    {
     "name": "stdout",
     "output_type": "stream",
     "text": [
      "리뷰 수 : 2406 수집한 리뷰 : 2406\n",
      "Hoegaarden Cherry\n",
      "오류 발생\n",
      "오류 발생\n",
      "오류 발생\n",
      "오류 발생\n",
      "오류 발생\n",
      "다음 맥주로 넘어갑니다...\n"
     ]
    },
    {
     "data": {
      "application/vnd.jupyter.widget-view+json": {
       "model_id": "621d02234cac4ebbb20c3a629a626e37",
       "version_major": 2,
       "version_minor": 0
      },
      "text/plain": [
       "  0%|          | 0/1 [00:00<?, ?it/s]"
      ]
     },
     "metadata": {},
     "output_type": "display_data"
    },
    {
     "name": "stdout",
     "output_type": "stream",
     "text": [
      "리뷰 수 : 5 수집한 리뷰 : 5\n",
      "TIGER REDLER\n",
      "오류 발생\n",
      "오류 발생\n",
      "오류 발생\n",
      "오류 발생\n",
      "오류 발생\n",
      "다음 맥주로 넘어갑니다...\n"
     ]
    },
    {
     "data": {
      "application/vnd.jupyter.widget-view+json": {
       "model_id": "a42b1b2425b64abca7d0dc4968e89eea",
       "version_major": 2,
       "version_minor": 0
      },
      "text/plain": [
       "  0%|          | 0/2 [00:00<?, ?it/s]"
      ]
     },
     "metadata": {},
     "output_type": "display_data"
    },
    {
     "name": "stdout",
     "output_type": "stream",
     "text": [
      "리뷰 수 : 22 수집한 리뷰 : 22\n",
      "TIGER BEER\n"
     ]
    },
    {
     "ename": "TypeError",
     "evalue": "'NoneType' object is not subscriptable",
     "output_type": "error",
     "traceback": [
      "\u001b[0;31m---------------------------------------------------------------------------\u001b[0m",
      "\u001b[0;31mTypeError\u001b[0m                                 Traceback (most recent call last)",
      "Input \u001b[0;32mIn [39]\u001b[0m, in \u001b[0;36m<cell line: 24>\u001b[0;34m()\u001b[0m\n\u001b[1;32m     24\u001b[0m \u001b[38;5;28;01mfor\u001b[39;00m beer \u001b[38;5;129;01min\u001b[39;00m tqdm(beer_test_list):\n\u001b[1;32m     25\u001b[0m     \u001b[38;5;28mprint\u001b[39m(beer)\n\u001b[0;32m---> 26\u001b[0m     data2 \u001b[38;5;241m=\u001b[39m \u001b[43mget_beer_review\u001b[49m\u001b[43m(\u001b[49m\u001b[43mbeer\u001b[49m\u001b[43m,\u001b[49m\u001b[43m \u001b[49m\u001b[43mdata\u001b[49m\u001b[43m)\u001b[49m\n\u001b[1;32m     27\u001b[0m     \u001b[38;5;28;01mif\u001b[39;00m \u001b[38;5;28mlen\u001b[39m(data) \u001b[38;5;241m==\u001b[39m \u001b[38;5;28mlen\u001b[39m(data2):\n\u001b[1;32m     28\u001b[0m         \u001b[38;5;28;01mcontinue\u001b[39;00m\n",
      "Input \u001b[0;32mIn [38]\u001b[0m, in \u001b[0;36mget_beer_review\u001b[0;34m(beer, df)\u001b[0m\n\u001b[1;32m     13\u001b[0m dom_search \u001b[38;5;241m=\u001b[39m BeautifulSoup(driver\u001b[38;5;241m.\u001b[39mpage_source, \u001b[38;5;124m'\u001b[39m\u001b[38;5;124mhtml.parser\u001b[39m\u001b[38;5;124m'\u001b[39m)\n\u001b[1;32m     14\u001b[0m beer_link \u001b[38;5;241m=\u001b[39m dom_search\u001b[38;5;241m.\u001b[39mfind(class_\u001b[38;5;241m=\u001b[39m\u001b[38;5;124m'\u001b[39m\u001b[38;5;124mMuiTypography-root Text___StyledTypographyTypeless-bukSfn pzIrn colorized__WrappedComponent-hrwcZr bRPQdN Anchor___StyledText2-jwDTwU jYqICB px-4 py-4 fj-s MuiTypography-body2\u001b[39m\u001b[38;5;124m'\u001b[39m, href\u001b[38;5;241m=\u001b[39m\u001b[38;5;28;01mTrue\u001b[39;00m)\n\u001b[0;32m---> 16\u001b[0m url_beer \u001b[38;5;241m=\u001b[39m urllib\u001b[38;5;241m.\u001b[39mparse\u001b[38;5;241m.\u001b[39murljoin(url, \u001b[43mbeer_link\u001b[49m\u001b[43m[\u001b[49m\u001b[38;5;124;43m'\u001b[39;49m\u001b[38;5;124;43mhref\u001b[39;49m\u001b[38;5;124;43m'\u001b[39;49m\u001b[43m]\u001b[49m)\n\u001b[1;32m     17\u001b[0m driver\u001b[38;5;241m.\u001b[39mget(url_beer)\n\u001b[1;32m     18\u001b[0m time\u001b[38;5;241m.\u001b[39msleep(\u001b[38;5;241m3\u001b[39m)\n",
      "\u001b[0;31mTypeError\u001b[0m: 'NoneType' object is not subscriptable"
     ]
    }
   ],
   "source": [
    "# 수집할 맥주 목록\n",
    "beer_list = ['kloud', 'fitz super clear', 'Asahi super dry', 'Tsingtao', 'Heineken',\n",
    " 'Kirin ichiban', 'Sapporo Premium Beer / Draft Beer', 'stella artois', 'guinness braught',\n",
    " '1664 Blanc', 'pilsner urquell', 'San Miguel', 'OB premier pilsner', 'cass fresh',\n",
    " 'stout', 'dry finish', 'max hite', 'hite extra cold', 'victoria bitter', 'BINTANG pilsner',\n",
    " 'krombacher weizen', 'Miller Genuine Draft', 'Hoegaarden Cherry', 'TIGER REDLER',\n",
    " \"Suntory The Premium Malt's\", 'REEPER B Weissbier', 'PEEPER B IPA', 'TIGER BEER',\n",
    " 'TSINGTAO WHEAT BEER', 'Erdinger Weissbier', 'Carlsberg', 'Budweiser ', 'Hoegarden',\n",
    " 'YEBISU', 'Paulaner Hefe-weissbier', 'Desperados', 'Peroni Nastro Azzurro',\n",
    " 'Edelweiss Snowfresh', 'Heineken Dark Lager', 'Kozel Dark 10', 'Guinness original',\n",
    " 'Filite', 'SEOULITE ALE', 'JEJU WIT ALE', 'Stephans Brau Philsner', 'Stephans Brau Larger',\n",
    " 'Stephans Bräu Hefe-Weizen Naturtrüb', 'Apostel Brau',\n",
    " 'Egger Zwickl', 'Egger Marzenbier', 'Holsten Premium Beer',\n",
    " 'Egger Radler Grapefruit', 'Barvaria Premium', 'Barvaria 8.6', 'Gambrinus Original', 'XXXX Gold', 'Leffe Brown',\n",
    " 'Lowenbrau Original', 'Asahi Super dry Black ', 'Harbin Beer', \"beck's\",\n",
    " 'Hoegaarden Rosee', 'Platinum White Ale', 'Platinum Pale Ale', 'Ambar Especial Larger',\n",
    " 'Schöfferhofer Grapefruit', 'Volfas Engelman Grünberger Hefeweizen', 'Berliner Kindl Pilsener ',\n",
    " 'BURGE MEESTER', 'Red Rock', 'Erdinger Dunkel', 'Warsteiner Premium Verum', \"Queen's Ale Blonde Type\"]\n",
    "\n",
    "beer_test_list = ['kloud', 'fitz super clear', 'Asahi super dry', 'Tsingtao', 'Heineken', 'Kirin ichiban', 'Sapporo Premium Beer / Draft Beer', 'stella artois', 'guinness braught', '1664 Blanc', 'pilsner urquell', 'San Miguel', 'OB premier pilsner', 'cass fresh', 'stout', 'dry finish', 'max hite', 'hite extra cold', 'victoria bitter', 'BINTANG pilsner', 'Miller Genuine Draft', 'Hoegaarden Cherry', 'TIGER REDLER']\n",
    "\n",
    "\n",
    "data = pd.DataFrame(data=[], columns=['검색이름', '유저', '맥주이름', '평점', '특성'])\n",
    "\n",
    "for beer in tqdm(beer_test_list):\n",
    "    print(beer)\n",
    "    data2 = get_beer_review(beer, data)\n",
    "    if len(data) == len(data2):\n",
    "        continue\n",
    "    else: data = data2\n",
    "data"
   ]
  },
  {
   "cell_type": "code",
   "execution_count": 48,
   "id": "cd98b64d",
   "metadata": {},
   "outputs": [
    {
     "data": {
      "application/vnd.jupyter.widget-view+json": {
       "model_id": "231bf40faab84003a2fc3f8185a3aaef",
       "version_major": 2,
       "version_minor": 0
      },
      "text/plain": [
       "  0%|          | 0/24 [00:00<?, ?it/s]"
      ]
     },
     "metadata": {},
     "output_type": "display_data"
    },
    {
     "name": "stdout",
     "output_type": "stream",
     "text": [
      "TIGER BEER\n",
      "오류 발생\n",
      "오류 발생\n",
      "오류 발생\n",
      "오류 발생\n",
      "오류 발생\n",
      "다음 맥주로 넘어갑니다...\n"
     ]
    },
    {
     "data": {
      "application/vnd.jupyter.widget-view+json": {
       "model_id": "2cdba4eb5040424485a22a25e74f2f5f",
       "version_major": 2,
       "version_minor": 0
      },
      "text/plain": [
       "  0%|          | 0/118 [00:00<?, ?it/s]"
      ]
     },
     "metadata": {},
     "output_type": "display_data"
    },
    {
     "name": "stdout",
     "output_type": "stream",
     "text": [
      "리뷰 수 : 1769 수집한 리뷰 : 1769\n",
      "TSINGTAO WHEAT BEER\n",
      "오류 발생\n",
      "오류 발생\n",
      "오류 발생\n",
      "오류 발생\n",
      "오류 발생\n",
      "다음 맥주로 넘어갑니다...\n"
     ]
    },
    {
     "data": {
      "application/vnd.jupyter.widget-view+json": {
       "model_id": "d04f213a164844a0bbb6a837125667f6",
       "version_major": 2,
       "version_minor": 0
      },
      "text/plain": [
       "  0%|          | 0/3 [00:00<?, ?it/s]"
      ]
     },
     "metadata": {},
     "output_type": "display_data"
    },
    {
     "name": "stdout",
     "output_type": "stream",
     "text": [
      "리뷰 수 : 34 수집한 리뷰 : 34\n",
      "Erdinger Weissbier\n",
      "오류 발생\n",
      "오류 발생\n",
      "오류 발생\n",
      "오류 발생\n",
      "오류 발생\n",
      "다음 맥주로 넘어갑니다...\n"
     ]
    },
    {
     "data": {
      "application/vnd.jupyter.widget-view+json": {
       "model_id": "8581b8bdcdcd4272adbe6956a0d3330e",
       "version_major": 2,
       "version_minor": 0
      },
      "text/plain": [
       "  0%|          | 0/182 [00:00<?, ?it/s]"
      ]
     },
     "metadata": {},
     "output_type": "display_data"
    },
    {
     "name": "stdout",
     "output_type": "stream",
     "text": [
      "리뷰 수 : 2722 수집한 리뷰 : 2722\n",
      "Carlsberg\n",
      "오류 발생\n",
      "오류 발생\n",
      "오류 발생\n",
      "오류 발생\n",
      "오류 발생\n",
      "다음 맥주로 넘어갑니다...\n"
     ]
    },
    {
     "data": {
      "application/vnd.jupyter.widget-view+json": {
       "model_id": "4ffeb7e86e1545b3af192f789075021f",
       "version_major": 2,
       "version_minor": 0
      },
      "text/plain": [
       "  0%|          | 0/119 [00:00<?, ?it/s]"
      ]
     },
     "metadata": {},
     "output_type": "display_data"
    },
    {
     "name": "stdout",
     "output_type": "stream",
     "text": [
      "리뷰 수 : 1783 수집한 리뷰 : 1783\n",
      "Budweiser \n",
      "오류 발생\n",
      "오류 발생\n",
      "오류 발생\n",
      "오류 발생\n",
      "오류 발생\n",
      "다음 맥주로 넘어갑니다...\n"
     ]
    },
    {
     "data": {
      "application/vnd.jupyter.widget-view+json": {
       "model_id": "106d6091d567452b9c72d4d54b3192df",
       "version_major": 2,
       "version_minor": 0
      },
      "text/plain": [
       "  0%|          | 0/296 [00:00<?, ?it/s]"
      ]
     },
     "metadata": {},
     "output_type": "display_data"
    },
    {
     "name": "stdout",
     "output_type": "stream",
     "text": [
      "리뷰 수 : 4433 수집한 리뷰 : 4433\n",
      "Hoegarden\n",
      "YEBISU\n",
      "오류 발생\n",
      "오류 발생\n",
      "오류 발생\n",
      "오류 발생\n",
      "오류 발생\n",
      "다음 맥주로 넘어갑니다...\n"
     ]
    },
    {
     "data": {
      "application/vnd.jupyter.widget-view+json": {
       "model_id": "af01ecb64b9e4a1b8753497110611886",
       "version_major": 2,
       "version_minor": 0
      },
      "text/plain": [
       "  0%|          | 0/24 [00:00<?, ?it/s]"
      ]
     },
     "metadata": {},
     "output_type": "display_data"
    },
    {
     "name": "stdout",
     "output_type": "stream",
     "text": [
      "리뷰 수 : 352 수집한 리뷰 : 352\n",
      "Paulaner Hefe-weissbier\n",
      "오류 발생\n",
      "오류 발생\n",
      "오류 발생\n",
      "오류 발생\n",
      "오류 발생\n",
      "다음 맥주로 넘어갑니다...\n"
     ]
    },
    {
     "data": {
      "application/vnd.jupyter.widget-view+json": {
       "model_id": "836f9086a2d84261bbac321a585717c0",
       "version_major": 2,
       "version_minor": 0
      },
      "text/plain": [
       "  0%|          | 0/236 [00:00<?, ?it/s]"
      ]
     },
     "metadata": {},
     "output_type": "display_data"
    },
    {
     "name": "stdout",
     "output_type": "stream",
     "text": [
      "리뷰 수 : 3526 수집한 리뷰 : 3526\n",
      "Desperados\n",
      "오류 발생\n",
      "오류 발생\n",
      "오류 발생\n",
      "오류 발생\n",
      "오류 발생\n",
      "다음 맥주로 넘어갑니다...\n"
     ]
    },
    {
     "data": {
      "application/vnd.jupyter.widget-view+json": {
       "model_id": "34d4f159e5844cb8bddf4a391b987dde",
       "version_major": 2,
       "version_minor": 0
      },
      "text/plain": [
       "  0%|          | 0/61 [00:00<?, ?it/s]"
      ]
     },
     "metadata": {},
     "output_type": "display_data"
    },
    {
     "name": "stdout",
     "output_type": "stream",
     "text": [
      "리뷰 수 : 905 수집한 리뷰 : 905\n",
      "Edelweiss Snowfresh\n",
      "오류 발생\n",
      "오류 발생\n",
      "오류 발생\n",
      "오류 발생\n",
      "오류 발생\n",
      "다음 맥주로 넘어갑니다...\n"
     ]
    },
    {
     "data": {
      "application/vnd.jupyter.widget-view+json": {
       "model_id": "04579868e37d435289fb4cf68d165e95",
       "version_major": 2,
       "version_minor": 0
      },
      "text/plain": [
       "  0%|          | 0/24 [00:00<?, ?it/s]"
      ]
     },
     "metadata": {},
     "output_type": "display_data"
    },
    {
     "name": "stdout",
     "output_type": "stream",
     "text": [
      "리뷰 수 : 356 수집한 리뷰 : 356\n",
      "Heineken Dark Lager\n",
      "오류 발생\n",
      "오류 발생\n",
      "오류 발생\n",
      "오류 발생\n",
      "오류 발생\n",
      "다음 맥주로 넘어갑니다...\n"
     ]
    },
    {
     "data": {
      "application/vnd.jupyter.widget-view+json": {
       "model_id": "3c4e992f4f5e4af5ac5227dff4931eac",
       "version_major": 2,
       "version_minor": 0
      },
      "text/plain": [
       "  0%|          | 0/39 [00:00<?, ?it/s]"
      ]
     },
     "metadata": {},
     "output_type": "display_data"
    },
    {
     "name": "stdout",
     "output_type": "stream",
     "text": [
      "리뷰 수 : 578 수집한 리뷰 : 578\n",
      "Kozel Dark 10\n",
      "오류 발생\n",
      "오류 발생\n",
      "오류 발생\n",
      "오류 발생\n",
      "오류 발생\n",
      "다음 맥주로 넘어갑니다...\n"
     ]
    },
    {
     "data": {
      "application/vnd.jupyter.widget-view+json": {
       "model_id": "832a354117534caf9893e6a1ae3c8649",
       "version_major": 2,
       "version_minor": 0
      },
      "text/plain": [
       "  0%|          | 0/74 [00:00<?, ?it/s]"
      ]
     },
     "metadata": {},
     "output_type": "display_data"
    },
    {
     "name": "stdout",
     "output_type": "stream",
     "text": [
      "리뷰 수 : 1107 수집한 리뷰 : 1107\n",
      "Guinness original\n",
      "오류 발생\n",
      "오류 발생\n",
      "오류 발생\n",
      "오류 발생\n",
      "오류 발생\n",
      "다음 맥주로 넘어갑니다...\n"
     ]
    },
    {
     "data": {
      "application/vnd.jupyter.widget-view+json": {
       "model_id": "230df26d14984a8b902bc13fdf2cb7a5",
       "version_major": 2,
       "version_minor": 0
      },
      "text/plain": [
       "  0%|          | 0/41 [00:00<?, ?it/s]"
      ]
     },
     "metadata": {},
     "output_type": "display_data"
    },
    {
     "name": "stdout",
     "output_type": "stream",
     "text": [
      "리뷰 수 : 615 수집한 리뷰 : 615\n",
      "Filite\n",
      "오류 발생\n",
      "오류 발생\n",
      "오류 발생\n",
      "오류 발생\n",
      "오류 발생\n",
      "다음 맥주로 넘어갑니다...\n"
     ]
    },
    {
     "data": {
      "application/vnd.jupyter.widget-view+json": {
       "model_id": "2e1a9de94be8440886457ca9b46630f0",
       "version_major": 2,
       "version_minor": 0
      },
      "text/plain": [
       "  0%|          | 0/1 [00:00<?, ?it/s]"
      ]
     },
     "metadata": {},
     "output_type": "display_data"
    },
    {
     "name": "stdout",
     "output_type": "stream",
     "text": [
      "리뷰 수 : 9 수집한 리뷰 : 9\n",
      "SEOULITE ALE\n",
      "오류 발생\n",
      "오류 발생\n",
      "오류 발생\n",
      "오류 발생\n",
      "오류 발생\n",
      "다음 맥주로 넘어갑니다...\n"
     ]
    },
    {
     "data": {
      "application/vnd.jupyter.widget-view+json": {
       "model_id": "a0becdee0fe64d8fac68f47a946e2ac7",
       "version_major": 2,
       "version_minor": 0
      },
      "text/plain": [
       "  0%|          | 0/1 [00:00<?, ?it/s]"
      ]
     },
     "metadata": {},
     "output_type": "display_data"
    },
    {
     "name": "stdout",
     "output_type": "stream",
     "text": [
      "리뷰 수 : 10 수집한 리뷰 : 10\n",
      "JEJU WIT ALE\n",
      "오류 발생\n",
      "오류 발생\n",
      "오류 발생\n",
      "오류 발생\n",
      "오류 발생\n",
      "다음 맥주로 넘어갑니다...\n"
     ]
    },
    {
     "data": {
      "application/vnd.jupyter.widget-view+json": {
       "model_id": "e235cf5b12974dac96db90e4172d449d",
       "version_major": 2,
       "version_minor": 0
      },
      "text/plain": [
       "  0%|          | 0/2 [00:00<?, ?it/s]"
      ]
     },
     "metadata": {},
     "output_type": "display_data"
    },
    {
     "name": "stdout",
     "output_type": "stream",
     "text": [
      "리뷰 수 : 19 수집한 리뷰 : 19\n",
      "Egger Zwickl\n",
      "오류 발생\n",
      "오류 발생\n",
      "오류 발생\n",
      "오류 발생\n",
      "오류 발생\n",
      "다음 맥주로 넘어갑니다...\n"
     ]
    },
    {
     "data": {
      "application/vnd.jupyter.widget-view+json": {
       "model_id": "bf382f69729b4cfd845ca2162cc7702a",
       "version_major": 2,
       "version_minor": 0
      },
      "text/plain": [
       "  0%|          | 0/1 [00:00<?, ?it/s]"
      ]
     },
     "metadata": {},
     "output_type": "display_data"
    },
    {
     "name": "stdout",
     "output_type": "stream",
     "text": [
      "리뷰 수 : 10 수집한 리뷰 : 10\n",
      "Egger Marzenbier\n",
      "오류 발생\n",
      "오류 발생\n",
      "오류 발생\n",
      "오류 발생\n",
      "오류 발생\n",
      "다음 맥주로 넘어갑니다...\n"
     ]
    },
    {
     "data": {
      "application/vnd.jupyter.widget-view+json": {
       "model_id": "312428d643e84522bf0a9a028b53f6ce",
       "version_major": 2,
       "version_minor": 0
      },
      "text/plain": [
       "  0%|          | 0/14 [00:00<?, ?it/s]"
      ]
     },
     "metadata": {},
     "output_type": "display_data"
    },
    {
     "name": "stdout",
     "output_type": "stream",
     "text": [
      "리뷰 수 : 201 수집한 리뷰 : 201\n",
      "Holsten Premium Beer\n",
      "오류 발생\n",
      "오류 발생\n",
      "오류 발생\n",
      "오류 발생\n",
      "오류 발생\n",
      "다음 맥주로 넘어갑니다...\n"
     ]
    },
    {
     "data": {
      "application/vnd.jupyter.widget-view+json": {
       "model_id": "ff23c266a8ce4e34bfcd977b015aaeac",
       "version_major": 2,
       "version_minor": 0
      },
      "text/plain": [
       "  0%|          | 0/30 [00:00<?, ?it/s]"
      ]
     },
     "metadata": {},
     "output_type": "display_data"
    },
    {
     "name": "stdout",
     "output_type": "stream",
     "text": [
      "리뷰 수 : 436 수집한 리뷰 : 436\n",
      "Egger Radler Grapefruit\n",
      "오류 발생\n",
      "오류 발생\n",
      "오류 발생\n",
      "오류 발생\n",
      "오류 발생\n",
      "다음 맥주로 넘어갑니다...\n"
     ]
    },
    {
     "data": {
      "application/vnd.jupyter.widget-view+json": {
       "model_id": "d2d24619aae345a78b91169843b4989e",
       "version_major": 2,
       "version_minor": 0
      },
      "text/plain": [
       "  0%|          | 0/4 [00:00<?, ?it/s]"
      ]
     },
     "metadata": {},
     "output_type": "display_data"
    },
    {
     "name": "stdout",
     "output_type": "stream",
     "text": [
      "리뷰 수 : 50 수집한 리뷰 : 50\n",
      "Leffe Brown\n",
      "오류 발생\n",
      "오류 발생\n",
      "오류 발생\n",
      "오류 발생\n",
      "오류 발생\n",
      "다음 맥주로 넘어갑니다...\n"
     ]
    },
    {
     "data": {
      "application/vnd.jupyter.widget-view+json": {
       "model_id": "fd57e1300c3d496a80209ffc484bc514",
       "version_major": 2,
       "version_minor": 0
      },
      "text/plain": [
       "  0%|          | 0/168 [00:00<?, ?it/s]"
      ]
     },
     "metadata": {},
     "output_type": "display_data"
    },
    {
     "name": "stdout",
     "output_type": "stream",
     "text": [
      "리뷰 수 : 2506 수집한 리뷰 : 2506\n",
      "Hoegaarden Rosee\n",
      "오류 발생\n",
      "오류 발생\n",
      "오류 발생\n",
      "오류 발생\n",
      "오류 발생\n",
      "다음 맥주로 넘어갑니다...\n"
     ]
    },
    {
     "data": {
      "application/vnd.jupyter.widget-view+json": {
       "model_id": "3865bffc11ab41baa671e48d89510141",
       "version_major": 2,
       "version_minor": 0
      },
      "text/plain": [
       "  0%|          | 0/40 [00:00<?, ?it/s]"
      ]
     },
     "metadata": {},
     "output_type": "display_data"
    },
    {
     "name": "stdout",
     "output_type": "stream",
     "text": [
      "리뷰 수 : 595 수집한 리뷰 : 595\n",
      "Schöfferhofer Grapefruit\n",
      "오류 발생\n",
      "오류 발생\n",
      "오류 발생\n",
      "오류 발생\n",
      "오류 발생\n",
      "다음 맥주로 넘어갑니다...\n"
     ]
    },
    {
     "data": {
      "application/vnd.jupyter.widget-view+json": {
       "model_id": "33300d687666411e883cff2bc350db44",
       "version_major": 2,
       "version_minor": 0
      },
      "text/plain": [
       "  0%|          | 0/45 [00:00<?, ?it/s]"
      ]
     },
     "metadata": {},
     "output_type": "display_data"
    },
    {
     "name": "stdout",
     "output_type": "stream",
     "text": [
      "리뷰 수 : 674 수집한 리뷰 : 674\n",
      "Red Rock\n",
      "오류 발생\n",
      "오류 발생\n",
      "오류 발생\n",
      "오류 발생\n",
      "오류 발생\n",
      "다음 맥주로 넘어갑니다...\n"
     ]
    },
    {
     "data": {
      "application/vnd.jupyter.widget-view+json": {
       "model_id": "600cd6745d98414a843e97b78c2616f8",
       "version_major": 2,
       "version_minor": 0
      },
      "text/plain": [
       "  0%|          | 0/1 [00:00<?, ?it/s]"
      ]
     },
     "metadata": {},
     "output_type": "display_data"
    },
    {
     "name": "stdout",
     "output_type": "stream",
     "text": [
      "리뷰 수 : 15 수집한 리뷰 : 15\n"
     ]
    },
    {
     "data": {
      "text/html": [
       "<div>\n",
       "<style scoped>\n",
       "    .dataframe tbody tr th:only-of-type {\n",
       "        vertical-align: middle;\n",
       "    }\n",
       "\n",
       "    .dataframe tbody tr th {\n",
       "        vertical-align: top;\n",
       "    }\n",
       "\n",
       "    .dataframe thead th {\n",
       "        text-align: right;\n",
       "    }\n",
       "</style>\n",
       "<table border=\"1\" class=\"dataframe\">\n",
       "  <thead>\n",
       "    <tr style=\"text-align: right;\">\n",
       "      <th></th>\n",
       "      <th>검색이름</th>\n",
       "      <th>유저</th>\n",
       "      <th>맥주이름</th>\n",
       "      <th>평점</th>\n",
       "      <th>특성</th>\n",
       "    </tr>\n",
       "  </thead>\n",
       "  <tbody>\n",
       "    <tr>\n",
       "      <th>0</th>\n",
       "      <td>kloud</td>\n",
       "      <td>68931</td>\n",
       "      <td>Kloud Original Gravity</td>\n",
       "      <td>2.8</td>\n",
       "      <td>Aroma\\n5\\nAppearance\\n3\\nFlavor\\n5\\nMouthfeel\\...</td>\n",
       "    </tr>\n",
       "    <tr>\n",
       "      <th>1</th>\n",
       "      <td>kloud</td>\n",
       "      <td>236424</td>\n",
       "      <td>Kloud Original Gravity</td>\n",
       "      <td>3.9</td>\n",
       "      <td>Aroma\\n10\\nAppearance\\n5\\nFlavor\\n10\\nMouthfee...</td>\n",
       "    </tr>\n",
       "    <tr>\n",
       "      <th>2</th>\n",
       "      <td>kloud</td>\n",
       "      <td>606</td>\n",
       "      <td>Kloud Original Gravity</td>\n",
       "      <td>2.4</td>\n",
       "      <td>Aroma\\n6\\nAppearance\\n3\\nFlavor\\n4\\nMouthfeel\\...</td>\n",
       "    </tr>\n",
       "    <tr>\n",
       "      <th>3</th>\n",
       "      <td>kloud</td>\n",
       "      <td>151390</td>\n",
       "      <td>Kloud Original Gravity</td>\n",
       "      <td>2.3</td>\n",
       "      <td>Aroma\\n4\\nAppearance\\n3\\nFlavor\\n4\\nMouthfeel\\...</td>\n",
       "    </tr>\n",
       "    <tr>\n",
       "      <th>4</th>\n",
       "      <td>kloud</td>\n",
       "      <td>334131</td>\n",
       "      <td>Kloud Original Gravity</td>\n",
       "      <td>1.0</td>\n",
       "      <td>Aroma\\n1\\nAppearance\\n1\\nFlavor\\n1\\nMouthfeel\\...</td>\n",
       "    </tr>\n",
       "    <tr>\n",
       "      <th>...</th>\n",
       "      <td>...</td>\n",
       "      <td>...</td>\n",
       "      <td>...</td>\n",
       "      <td>...</td>\n",
       "      <td>...</td>\n",
       "    </tr>\n",
       "    <tr>\n",
       "      <th>10</th>\n",
       "      <td>Red Rock</td>\n",
       "      <td>15921</td>\n",
       "      <td>Red Rock</td>\n",
       "      <td>2.2</td>\n",
       "      <td>Aroma\\n5\\nAppearance\\n3\\nFlavor\\n4\\nMouthfeel\\...</td>\n",
       "    </tr>\n",
       "    <tr>\n",
       "      <th>11</th>\n",
       "      <td>Red Rock</td>\n",
       "      <td>32788</td>\n",
       "      <td>Red Rock</td>\n",
       "      <td>1.4</td>\n",
       "      <td>Aroma\\n2\\nAppearance\\n3\\nFlavor\\n3\\nMouthfeel\\...</td>\n",
       "    </tr>\n",
       "    <tr>\n",
       "      <th>12</th>\n",
       "      <td>Red Rock</td>\n",
       "      <td>8771</td>\n",
       "      <td>Red Rock</td>\n",
       "      <td>1.1</td>\n",
       "      <td>Aroma\\n2\\nAppearance\\n2\\nFlavor\\n2\\nMouthfeel\\...</td>\n",
       "    </tr>\n",
       "    <tr>\n",
       "      <th>13</th>\n",
       "      <td>Red Rock</td>\n",
       "      <td>7208</td>\n",
       "      <td>Red Rock</td>\n",
       "      <td>1.2</td>\n",
       "      <td>Aroma\\n2\\nAppearance\\n3\\nFlavor\\n2\\nMouthfeel\\...</td>\n",
       "    </tr>\n",
       "    <tr>\n",
       "      <th>14</th>\n",
       "      <td>Red Rock</td>\n",
       "      <td>3083</td>\n",
       "      <td>Red Rock</td>\n",
       "      <td>1.2</td>\n",
       "      <td>Aroma\\n2\\nAppearance\\n2\\nFlavor\\n2\\nMouthfeel\\...</td>\n",
       "    </tr>\n",
       "  </tbody>\n",
       "</table>\n",
       "<p>54655 rows × 5 columns</p>\n",
       "</div>"
      ],
      "text/plain": [
       "        검색이름      유저                    맥주이름   평점  \\\n",
       "0      kloud   68931  Kloud Original Gravity  2.8   \n",
       "1      kloud  236424  Kloud Original Gravity  3.9   \n",
       "2      kloud     606  Kloud Original Gravity  2.4   \n",
       "3      kloud  151390  Kloud Original Gravity  2.3   \n",
       "4      kloud  334131  Kloud Original Gravity  1.0   \n",
       "..       ...     ...                     ...  ...   \n",
       "10  Red Rock   15921                Red Rock  2.2   \n",
       "11  Red Rock   32788                Red Rock  1.4   \n",
       "12  Red Rock    8771                Red Rock  1.1   \n",
       "13  Red Rock    7208                Red Rock  1.2   \n",
       "14  Red Rock    3083                Red Rock  1.2   \n",
       "\n",
       "                                                   특성  \n",
       "0   Aroma\\n5\\nAppearance\\n3\\nFlavor\\n5\\nMouthfeel\\...  \n",
       "1   Aroma\\n10\\nAppearance\\n5\\nFlavor\\n10\\nMouthfee...  \n",
       "2   Aroma\\n6\\nAppearance\\n3\\nFlavor\\n4\\nMouthfeel\\...  \n",
       "3   Aroma\\n4\\nAppearance\\n3\\nFlavor\\n4\\nMouthfeel\\...  \n",
       "4   Aroma\\n1\\nAppearance\\n1\\nFlavor\\n1\\nMouthfeel\\...  \n",
       "..                                                ...  \n",
       "10  Aroma\\n5\\nAppearance\\n3\\nFlavor\\n4\\nMouthfeel\\...  \n",
       "11  Aroma\\n2\\nAppearance\\n3\\nFlavor\\n3\\nMouthfeel\\...  \n",
       "12  Aroma\\n2\\nAppearance\\n2\\nFlavor\\n2\\nMouthfeel\\...  \n",
       "13  Aroma\\n2\\nAppearance\\n3\\nFlavor\\n2\\nMouthfeel\\...  \n",
       "14  Aroma\\n2\\nAppearance\\n2\\nFlavor\\n2\\nMouthfeel\\...  \n",
       "\n",
       "[54655 rows x 5 columns]"
      ]
     },
     "execution_count": 48,
     "metadata": {},
     "output_type": "execute_result"
    }
   ],
   "source": [
    "beer_test_list_2 = ['TIGER BEER', 'TSINGTAO WHEAT BEER', 'Erdinger Weissbier', 'Carlsberg', 'Budweiser ', 'Hoegarden', 'YEBISU', 'Paulaner Hefe-weissbier', 'Desperados', 'Edelweiss Snowfresh', 'Heineken Dark Lager', 'Kozel Dark 10', 'Guinness original', 'Filite', 'SEOULITE ALE', 'JEJU WIT ALE', 'Egger Zwickl', 'Egger Marzenbier', 'Holsten Premium Beer', 'Egger Radler Grapefruit', 'Leffe Brown', 'Hoegaarden Rosee', 'Schöfferhofer Grapefruit', 'Red Rock']\n",
    "\n",
    "for beer in tqdm(beer_test_list_2):\n",
    "    print(beer)\n",
    "    data2 = get_beer_review(beer, data)\n",
    "    if len(data) == len(data2):\n",
    "        continue\n",
    "    else: data = data2\n",
    "data"
   ]
  },
  {
   "cell_type": "code",
   "execution_count": 52,
   "id": "5b6bfad7",
   "metadata": {},
   "outputs": [],
   "source": [
    "data = data.reset_index(drop=True)\n",
    "data.to_csv('beer_test_list.csv', encoding='utf-8')\n",
    "data.to_excel('beer_test_list.xlsx')"
   ]
  },
  {
   "cell_type": "code",
   "execution_count": 56,
   "id": "2d769290",
   "metadata": {
    "scrolled": true
   },
   "outputs": [],
   "source": []
  },
  {
   "cell_type": "code",
   "execution_count": null,
   "id": "7521cfc2",
   "metadata": {},
   "outputs": [],
   "source": [
    "data = pd.read_csv('beer_test_list.csv')\n",
    "data_features = data['특성'].copy\n",
    "\n",
    "data['Aroma'] = data['특성'].apply(lambda x: x.split('\\n')[1])\n",
    "data['Appearance'] = data['특성'].apply(lambda x: x.split('\\n')[3])\n",
    "data['Flavor'] = data['특성'].apply(lambda x: x.split('\\n')[5])\n",
    "data['Mouthfeel'] = data['특성'].apply(lambda x: x.split('\\n')[7])\n",
    "data['Overall'] = data['특성'].apply(lambda x: x.split('\\n')[9])\n",
    "\n",
    "for _ in ['Aroma', 'Appearance', 'Flavor', 'Mouthfeel', 'Overall']:\n",
    "    data = data[data[_] != '-']\n",
    "\n",
    "for _ in ['Aroma', 'Appearance', 'Flavor', 'Mouthfeel', 'Overall']:\n",
    "    data[_] = pd.to_numeric(data[_])\n",
    "\n",
    "data = data.drop('특성', axis='columns')\n",
    "\n",
    "data = data.drop('Unnamed: 0', axis='columns')\n",
    "data.to_csv('beer_final.csv', encoding='utf-8')"
   ]
  }
 ],
 "metadata": {
  "kernelspec": {
   "display_name": "Recom3813",
   "language": "python",
   "name": "recommender"
  },
  "language_info": {
   "codemirror_mode": {
    "name": "ipython",
    "version": 3
   },
   "file_extension": ".py",
   "mimetype": "text/x-python",
   "name": "python",
   "nbconvert_exporter": "python",
   "pygments_lexer": "ipython3",
   "version": "3.8.13"
  }
 },
 "nbformat": 4,
 "nbformat_minor": 5
}
